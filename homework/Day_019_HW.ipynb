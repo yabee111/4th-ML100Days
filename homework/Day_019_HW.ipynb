{
 "cells": [
  {
   "cell_type": "markdown",
   "metadata": {},
   "source": [
    "## 作業\n",
    "### 請使用 application_train.csv, 根據不同的 HOUSETYPE_MODE 對 AMT_CREDIT 繪製 Histogram"
   ]
  },
  {
   "cell_type": "markdown",
   "metadata": {},
   "source": [
    "# [作業目標]\n",
    "- 試著調整資料, 並利用提供的程式繪製分布圖"
   ]
  },
  {
   "cell_type": "markdown",
   "metadata": {},
   "source": [
    "# [作業重點]\n",
    "- 如何將列出相異的 HOUSETYPE_MODE 類別 (In[3])\n",
    "- 如何依照不同的 HOUSETYPE_MODE 類別指定資料, 並繪製長條圖(.hist())? (In[3])"
   ]
  },
  {
   "cell_type": "code",
   "execution_count": 2,
   "metadata": {},
   "outputs": [],
   "source": [
    "# 載入需要的套件\n",
    "import os\n",
    "import numpy as np\n",
    "import pandas as pd\n",
    "import matplotlib.pyplot as plt\n",
    "import seaborn as sns # 另一個繪圖-樣式套件\n",
    "\n",
    "# 忽略警告訊息\n",
    "%matplotlib inline\n",
    "plt.style.use('ggplot')\n",
    "import warnings\n",
    "warnings.filterwarnings('ignore')\n",
    "\n",
    "# 設定 data_path\n",
    "dir_data = './data/'"
   ]
  },
  {
   "cell_type": "code",
   "execution_count": 7,
   "metadata": {},
   "outputs": [
    {
     "name": "stdout",
     "output_type": "stream",
     "text": [
      "Path of read in data: ./data/application_train.csv\n"
     ]
    },
    {
     "data": {
      "text/plain": [
       "0         block of flats\n",
       "1         block of flats\n",
       "2                    NaN\n",
       "3                    NaN\n",
       "4                    NaN\n",
       "               ...      \n",
       "307506    block of flats\n",
       "307507    block of flats\n",
       "307508    block of flats\n",
       "307509    block of flats\n",
       "307510    block of flats\n",
       "Name: HOUSETYPE_MODE, Length: 307511, dtype: object"
      ]
     },
     "execution_count": 7,
     "metadata": {},
     "output_type": "execute_result"
    }
   ],
   "source": [
    "# 讀取檔案\n",
    "f_app = os.path.join(dir_data, 'application_train.csv')\n",
    "print('Path of read in data: %s' % (f_app))\n",
    "app_train = pd.read_csv(f_app)\n",
    "app_train.head()"
   ]
  },
  {
   "cell_type": "code",
   "execution_count": null,
   "metadata": {},
   "outputs": [],
   "source": [
    "# 使用不同的 HOUSETYPE_MODE 類別繪製圖形, 並使用 subplot 排版\n",
    "\"\"\"\n",
    "Your Code Here\n",
    "\"\"\"\n",
    "app_train['HOUSETYPE_MODE'] = app_train['HOUSETYPE_MODE'].astype(str)\n",
    "unique_house_type = np.sort(app_train['HOUSETYPE_MODE'].unique())\n",
    "\n",
    "\n",
    "nrows = len(unique_house_type)\n",
    "ncols = nrows // 2\n",
    "\n",
    "plt.figure(figsize=(10,30))\n",
    "for i in range(len(unique_house_type)):\n",
    "    plt.subplot(nrows, ncols, i+1)\n",
    "    \"\"\"\n",
    "    Your Code Here\n",
    "    \"\"\"\n",
    "    app_train.loc[app_train['HOUSETYPE_MODE'] == unique_house_type[i] , 'AMT_CREDIT'].hist()\n",
    "    \n",
    "    plt.title(str(unique_house_type[i]))\n",
    "plt.show()    \n"
   ]
  }
 ],
 "metadata": {
  "anaconda-cloud": {},
  "kernelspec": {
   "display_name": "Python 3",
   "language": "python",
   "name": "python3"
  },
  "language_info": {
   "codemirror_mode": {
    "name": "ipython",
    "version": 3
   },
   "file_extension": ".py",
   "mimetype": "text/x-python",
   "name": "python",
   "nbconvert_exporter": "python",
   "pygments_lexer": "ipython3",
   "version": "3.7.4"
  }
 },
 "nbformat": 4,
 "nbformat_minor": 1
}
